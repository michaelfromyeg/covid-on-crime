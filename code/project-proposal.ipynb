{
 "cells": [
  {
   "cell_type": "code",
   "execution_count": 1,
   "metadata": {
    "scrolled": true
   },
   "outputs": [],
   "source": [
    "# # Install required packages (NB: they may already be installed on your machine)\n",
    "# install.packages(\"tidyverse\")\n",
    "# install.packages(\"infer\")\n",
    "# install.packages(\"janitor\")\n",
    "# install.packages(\"repr\")\n",
    "# install.packages(\"stringr\")\n",
    "# install.packages(\"waffle\", repos = \"https://cinc.rud.is\")\n",
    "# install.packages(\"plyr\")\n",
    "# install.packages(\"ggthemes\")\n",
    "\n",
    "# # Waffle is sometimes finicky, so you might also need this to run this notebook locally\n",
    "# remotes::install_github(\"hrbrmstr/waffle\")"
   ]
  },
  {
   "cell_type": "code",
   "execution_count": 2,
   "metadata": {},
   "outputs": [
    {
     "name": "stderr",
     "output_type": "stream",
     "text": [
      "-- \u001b[1mAttaching packages\u001b[22m ----------------------------------------------------------------------------------------------------------------------------- tidyverse 1.3.0 --\n",
      "\n",
      "\u001b[32mv\u001b[39m \u001b[34mggplot2\u001b[39m 3.3.3     \u001b[32mv\u001b[39m \u001b[34mpurrr  \u001b[39m 0.3.4\n",
      "\u001b[32mv\u001b[39m \u001b[34mtibble \u001b[39m 3.1.0     \u001b[32mv\u001b[39m \u001b[34mdplyr  \u001b[39m 1.0.4\n",
      "\u001b[32mv\u001b[39m \u001b[34mtidyr  \u001b[39m 1.1.2     \u001b[32mv\u001b[39m \u001b[34mstringr\u001b[39m 1.4.0\n",
      "\u001b[32mv\u001b[39m \u001b[34mreadr  \u001b[39m 1.4.0     \u001b[32mv\u001b[39m \u001b[34mforcats\u001b[39m 0.5.1\n",
      "\n",
      "-- \u001b[1mConflicts\u001b[22m -------------------------------------------------------------------------------------------------------------------------------- tidyverse_conflicts() --\n",
      "\u001b[31mx\u001b[39m \u001b[34mdplyr\u001b[39m::\u001b[32marrange()\u001b[39m   masks \u001b[34mplyr\u001b[39m::arrange()\n",
      "\u001b[31mx\u001b[39m \u001b[34mpurrr\u001b[39m::\u001b[32mcompact()\u001b[39m   masks \u001b[34mplyr\u001b[39m::compact()\n",
      "\u001b[31mx\u001b[39m \u001b[34mdplyr\u001b[39m::\u001b[32mcount()\u001b[39m     masks \u001b[34mplyr\u001b[39m::count()\n",
      "\u001b[31mx\u001b[39m \u001b[34mdplyr\u001b[39m::\u001b[32mfailwith()\u001b[39m  masks \u001b[34mplyr\u001b[39m::failwith()\n",
      "\u001b[31mx\u001b[39m \u001b[34mdplyr\u001b[39m::\u001b[32mfilter()\u001b[39m    masks \u001b[34mstats\u001b[39m::filter()\n",
      "\u001b[31mx\u001b[39m \u001b[34mdplyr\u001b[39m::\u001b[32mid()\u001b[39m        masks \u001b[34mplyr\u001b[39m::id()\n",
      "\u001b[31mx\u001b[39m \u001b[34mdplyr\u001b[39m::\u001b[32mlag()\u001b[39m       masks \u001b[34mstats\u001b[39m::lag()\n",
      "\u001b[31mx\u001b[39m \u001b[34mdplyr\u001b[39m::\u001b[32mmutate()\u001b[39m    masks \u001b[34mplyr\u001b[39m::mutate()\n",
      "\u001b[31mx\u001b[39m \u001b[34mdplyr\u001b[39m::\u001b[32mrename()\u001b[39m    masks \u001b[34mplyr\u001b[39m::rename()\n",
      "\u001b[31mx\u001b[39m \u001b[34mdplyr\u001b[39m::\u001b[32msummarise()\u001b[39m masks \u001b[34mplyr\u001b[39m::summarise()\n",
      "\u001b[31mx\u001b[39m \u001b[34mdplyr\u001b[39m::\u001b[32msummarize()\u001b[39m masks \u001b[34mplyr\u001b[39m::summarize()\n",
      "\n",
      "\n",
      "Attaching package: 'janitor'\n",
      "\n",
      "\n",
      "The following objects are masked from 'package:stats':\n",
      "\n",
      "    chisq.test, fisher.test\n",
      "\n",
      "\n"
     ]
    }
   ],
   "source": [
    "# Load required packages\n",
    "library(plyr)\n",
    "library(tidyverse)\n",
    "library(infer)\n",
    "library(janitor)\n",
    "library(repr)\n",
    "library(stringr)\n",
    "library(waffle)\n",
    "library(ggthemes)"
   ]
  },
  {
   "cell_type": "code",
   "execution_count": 3,
   "metadata": {},
   "outputs": [],
   "source": [
    "# Custom ggplot theme for use throughout the analysis\n",
    "# Idea from [Joey Stanley](https://joeystanley.com/blog/custom-themes-in-ggplot2)\n",
    "\n",
    "theme_stat201 <- function (width = 12, height = 5) { \n",
    "    options(repr.plot.width = width, repr.plot.height = height)\n",
    "    theme_bw(base_size = 14) %+replace% \n",
    "        theme(\n",
    "            plot.title = element_text(hjust = 0.5) \n",
    "        )\n",
    "}"
   ]
  },
  {
   "cell_type": "code",
   "execution_count": 4,
   "metadata": {},
   "outputs": [
    {
     "name": "stdout",
     "output_type": "stream",
     "text": [
      "[1] \"Figure #0: Hello, world!\"\n"
     ]
    }
   ],
   "source": [
    "# A helper function to generate figure numbers\n",
    "# TODO: figure out how to make figure_number increment correctly\n",
    "create_caption <- function (figure_number, title) {\n",
    "    print(paste(sprintf(\"Figure #%d:\", figure_number), title))\n",
    "}\n",
    "create_caption(0, \"Hello, world!\")"
   ]
  },
  {
   "cell_type": "markdown",
   "metadata": {},
   "source": [
    "# Examining the Impact of COVID-19 on the Proportion of Theft-Related Crimes in Vancouver\n",
    "\n",
    "**Authors** Group 4, Project Proposal (Acky Xu, Adam Mitha, Icy Xu, Michael DeMarco)\n",
    "\n",
    "**Abstract** This project looks at the impact of the COVID-19 pandemic on theft-related crime in select Vancouver neighborhoods. Novel inferential techniques are applied to estimate the proportion of theft crime relative to all crime between now (2020) and the mean proportion of the past 3 years (2017 to 2019). Our findings are still to be  determined, and will be included in the final report.\n",
    "\n",
    "<p style=\"display: block; text-align: center;\">\n",
    "    <img style=\"display: block; margin: 0 auto;\" src=\"./vpd.jpg\" alt=\"A VPD car\" width=\"50%\" />\n",
    "</p>\n",
    "\n",
    "<p style=\"text-align: center;\"><i>A Vancouver Police Department (VPD) car.</i></p>"
   ]
  },
  {
   "cell_type": "markdown",
   "metadata": {},
   "source": [
    "## Introduction\n",
    "\n",
    "### Background \n",
    "\n",
    "Since the beginning of the COVID-19 pandemic in March of 2020, many have discussed the issue of alleged increasing crime rates both globally and within Metro Vancouver. Indeed, an unprecedented economic contraction [[Statistics Canada, 1]](https://www150.statcan.gc.ca/n1/pub/11-631-x/2020004/conclusions-eng.htm) coupled with fewer resources, such as shelters or food banks, has driven an increase in many types of crime, including in fraud and counterfeiting crime [[Interpol, 2]](https://www.interpol.int/en/News-and-Events/News/2019/Operation-Pangea-shining-a-light-on-pharmaceutical-crime), hate crimes [[ABC News, 3]](https://abcnews.go.com/US/fbi-warns-potential-surge-hate-crimes-asian-americans/story?id=69831920)—with those of East Asian descent being impacted most significantly—and domestic violence [[UN News, 4]](https://news.un.org/en/story/2020/04/1061052).\n",
    "\n",
    "These spikes have led to tension between municipal governments and police departments with respect to budgeting in the wake of the economic depravity of the COVID-19 era. The City of Vancouver, specifically, enacted a freeze on the police budget in 2021 [[CBC, 5]](https://www.cbc.ca/news/canada/british-columbia/city-of-vancouver-freezes-police-department-funding-as-part-of-2021-budget-1.5833731).\n",
    "\n",
    "Existing literature has primarily focused on many types of \"global\" crime (e.g., organized crime, terrorist attacks), and has largely concluded that on the whole, these types of crimes are increasing through the pandemic year; in our analysis, we'll look closely at \"petty\" crimes, specifically theft, and see how, if at all, the rate of theft crime has changed amidst the pandemic. We choose three neighborhoods—Strathcona, Marpole, and Shaughnessy—for our analysis. Per the City of Vancouver's 2016 local area profiles, these are the \"average total incomes among residents\"  in those three neighborhoods [[City of Vancouver, 9]](https://opendata.vancouver.ca/explore/dataset/census-local-area-profiles-2016/information/):\n",
    "\n",
    "* Shaughnessy, \\$118,668\n",
    "* Marpole, \\$39,020\n",
    "* Strathcona, \\$31,534\n",
    "\n",
    "(We can use the City of Vancouver's local profiles as they match the VPD's neighborhood classifications.) Thus, we have the \"upper class,\" \"middle class,\" and \"lower class\" represented by each neighborhood respectively.\n",
    "\n",
    "### Question\n",
    "\n",
    "We are interested in exploring how much, if at all, the proportion of petty crime rates have changed in Metro Vancouver over the last year. We will compare crime rates from 2017 to 2020 in neighborhoods characteristic of the full economic spectrum.\n",
    "\n",
    "Therefore, our research question is as follows: _\"How has the proportion of theft-related crime changed, if at all, in Vancouver during 2020, the year of the COVID-19 pandemic, when looked at across the full economic spectrum via three neighborhoods: Strathcona, Marpole, and Shaughnessy?\"_\n",
    "\n",
    "### Data set\n",
    "\n",
    "We're considering our sample to be what is available in the Vancouver Police Department's database, and our population is _all_ actual crime that occurred in Vancouver, not just reported crime. Of course it is impossible to know how much crime actually occurred, but through our data set sample we'll be able to produce an estimate.\n",
    "\n",
    "We will be using the Vancouver Police Department's Open Crime Data [[VPD, 6]](https://geodash.vpd.ca/opendata/) to answer our research question. In particular, we'll need three columns from the data set:\n",
    "\n",
    "| Column | Description | Notes |\n",
    "|-|-|-|\n",
    "| Year | \"A four-digit field that indicates the year when the reported crime activity\" | We'll use data from 2017 to 2020. |\n",
    "| Type | \"The type of crime activities\" | We're considering theft crime to be all crime types with \"theft\" explicitly in the name. |\n",
    "| Neighborhood | \"Neighborhoods within the City of Vancouver are based on the census tract (CT) concept within census metropolitan area (CMA).\" | We'll take three neighborhoods, representing the full economic spectrum. |\n",
    "\n",
    "Our random variable of interest is the difference in the proportion of theft-related crime with respect to all crime through COVID. Given our population is all Vancouver crime, our parameter of interest is the difference in the proportion of theft related crime from the last three years (2017 to 2019) to now (2020).\n",
    "\n",
    "We will be studying the change of this value from 2017 to 2020 across three different Vancouver neighborhoods, each characteristic of a different level of wealth. Thus, our location parameter is a proportion with an error reported by its standard error, which can be computed via bootstrapping, asymptotics, or mathematically, with the formula:\n",
    "\n",
    "$$ {SE}_{\\hat{p}_1 - \\hat{p}_2} = \\sqrt(\\frac{\\hat{p}_1\\hat{q}_1}{n_1} + \\frac{\\hat{p}_2\\hat{q}_2}{n_2}) $$\n",
    "\n",
    "where\n",
    "\n",
    "$$ p_i = 1 - q_i $$\n",
    "\n",
    "We will also look at creating a confidence interval for the standard deviation of our proportion estimate as well, but this won't be the focus of our analysis [[Piazza, 7]](https://piazza.com/class/kjqe81ynudx2rm?cid=169). "
   ]
  },
  {
   "cell_type": "markdown",
   "metadata": {},
   "source": [
    "## Preliminary Results"
   ]
  },
  {
   "cell_type": "markdown",
   "metadata": {},
   "source": [
    "We'll start by importing the dataset from it's original source [[VPD, 6]](https://geodash.vpd.ca/opendata), loading it into a dataframe and inspecting the results."
   ]
  },
  {
   "cell_type": "code",
   "execution_count": 5,
   "metadata": {},
   "outputs": [
    {
     "name": "stderr",
     "output_type": "stream",
     "text": [
      "\n",
      "\u001b[36m--\u001b[39m \u001b[1m\u001b[1mColumn specification\u001b[1m\u001b[22m \u001b[36m----------------------------------------------------------------------------------------------------------------------------------------------\u001b[39m\n",
      "cols(\n",
      "  TYPE = \u001b[31mcol_character()\u001b[39m,\n",
      "  YEAR = \u001b[32mcol_double()\u001b[39m,\n",
      "  MONTH = \u001b[32mcol_double()\u001b[39m,\n",
      "  DAY = \u001b[32mcol_double()\u001b[39m,\n",
      "  HOUR = \u001b[32mcol_double()\u001b[39m,\n",
      "  MINUTE = \u001b[32mcol_double()\u001b[39m,\n",
      "  HUNDRED_BLOCK = \u001b[31mcol_character()\u001b[39m,\n",
      "  NEIGHBOURHOOD = \u001b[31mcol_character()\u001b[39m,\n",
      "  X = \u001b[32mcol_double()\u001b[39m,\n",
      "  Y = \u001b[32mcol_double()\u001b[39m\n",
      ")\n",
      "\n",
      "\n"
     ]
    }
   ],
   "source": [
    "# Download the file to wherever your Jupyter notebook is located\n",
    "url <- \"https://geodash.vpd.ca/opendata/crimedata_download/crimedata_csv_all_years.zip\"\n",
    "filename <- \"crime_data.zip\"\n",
    "download.file(url, destfile = filename)\n",
    "\n",
    "# Data comes in as a zip, so we'll need to extract it\n",
    "unzip(\"crime_data.zip\")\n",
    "\n",
    "# Read in the desired file\n",
    "crime_data <- read_csv(\"crimedata_csv_all_years.csv\")"
   ]
  },
  {
   "cell_type": "code",
   "execution_count": 6,
   "metadata": {},
   "outputs": [
    {
     "data": {
      "text/html": [
       "<table class=\"dataframe\">\n",
       "<caption>A tibble: 3 × 10</caption>\n",
       "<thead>\n",
       "\t<tr><th scope=col>TYPE</th><th scope=col>YEAR</th><th scope=col>MONTH</th><th scope=col>DAY</th><th scope=col>HOUR</th><th scope=col>MINUTE</th><th scope=col>HUNDRED_BLOCK</th><th scope=col>NEIGHBOURHOOD</th><th scope=col>X</th><th scope=col>Y</th></tr>\n",
       "\t<tr><th scope=col>&lt;chr&gt;</th><th scope=col>&lt;dbl&gt;</th><th scope=col>&lt;dbl&gt;</th><th scope=col>&lt;dbl&gt;</th><th scope=col>&lt;dbl&gt;</th><th scope=col>&lt;dbl&gt;</th><th scope=col>&lt;chr&gt;</th><th scope=col>&lt;chr&gt;</th><th scope=col>&lt;dbl&gt;</th><th scope=col>&lt;dbl&gt;</th></tr>\n",
       "</thead>\n",
       "<tbody>\n",
       "\t<tr><td>Break and Enter Commercial</td><td>2012</td><td>12</td><td>14</td><td>8</td><td>52</td><td>NA             </td><td>Oakridge</td><td>491285.0</td><td>5453433</td></tr>\n",
       "\t<tr><td>Break and Enter Commercial</td><td>2019</td><td> 3</td><td> 7</td><td>2</td><td> 6</td><td>10XX SITKA SQ  </td><td>Fairview</td><td>490613.0</td><td>5457110</td></tr>\n",
       "\t<tr><td>Break and Enter Commercial</td><td>2019</td><td> 8</td><td>27</td><td>4</td><td>12</td><td>10XX ALBERNI ST</td><td>West End</td><td>491007.8</td><td>5459174</td></tr>\n",
       "</tbody>\n",
       "</table>\n"
      ],
      "text/latex": [
       "A tibble: 3 × 10\n",
       "\\begin{tabular}{llllllllll}\n",
       " TYPE & YEAR & MONTH & DAY & HOUR & MINUTE & HUNDRED\\_BLOCK & NEIGHBOURHOOD & X & Y\\\\\n",
       " <chr> & <dbl> & <dbl> & <dbl> & <dbl> & <dbl> & <chr> & <chr> & <dbl> & <dbl>\\\\\n",
       "\\hline\n",
       "\t Break and Enter Commercial & 2012 & 12 & 14 & 8 & 52 & NA              & Oakridge & 491285.0 & 5453433\\\\\n",
       "\t Break and Enter Commercial & 2019 &  3 &  7 & 2 &  6 & 10XX SITKA SQ   & Fairview & 490613.0 & 5457110\\\\\n",
       "\t Break and Enter Commercial & 2019 &  8 & 27 & 4 & 12 & 10XX ALBERNI ST & West End & 491007.8 & 5459174\\\\\n",
       "\\end{tabular}\n"
      ],
      "text/markdown": [
       "\n",
       "A tibble: 3 × 10\n",
       "\n",
       "| TYPE &lt;chr&gt; | YEAR &lt;dbl&gt; | MONTH &lt;dbl&gt; | DAY &lt;dbl&gt; | HOUR &lt;dbl&gt; | MINUTE &lt;dbl&gt; | HUNDRED_BLOCK &lt;chr&gt; | NEIGHBOURHOOD &lt;chr&gt; | X &lt;dbl&gt; | Y &lt;dbl&gt; |\n",
       "|---|---|---|---|---|---|---|---|---|---|\n",
       "| Break and Enter Commercial | 2012 | 12 | 14 | 8 | 52 | NA              | Oakridge | 491285.0 | 5453433 |\n",
       "| Break and Enter Commercial | 2019 |  3 |  7 | 2 |  6 | 10XX SITKA SQ   | Fairview | 490613.0 | 5457110 |\n",
       "| Break and Enter Commercial | 2019 |  8 | 27 | 4 | 12 | 10XX ALBERNI ST | West End | 491007.8 | 5459174 |\n",
       "\n"
      ],
      "text/plain": [
       "  TYPE                       YEAR MONTH DAY HOUR MINUTE HUNDRED_BLOCK  \n",
       "1 Break and Enter Commercial 2012 12    14  8    52     NA             \n",
       "2 Break and Enter Commercial 2019  3     7  2     6     10XX SITKA SQ  \n",
       "3 Break and Enter Commercial 2019  8    27  4    12     10XX ALBERNI ST\n",
       "  NEIGHBOURHOOD X        Y      \n",
       "1 Oakridge      491285.0 5453433\n",
       "2 Fairview      490613.0 5457110\n",
       "3 West End      491007.8 5459174"
      ]
     },
     "metadata": {},
     "output_type": "display_data"
    },
    {
     "data": {
      "text/html": [
       "<table class=\"dataframe\">\n",
       "<caption>A tibble: 3 × 10</caption>\n",
       "<thead>\n",
       "\t<tr><th scope=col>TYPE</th><th scope=col>YEAR</th><th scope=col>MONTH</th><th scope=col>DAY</th><th scope=col>HOUR</th><th scope=col>MINUTE</th><th scope=col>HUNDRED_BLOCK</th><th scope=col>NEIGHBOURHOOD</th><th scope=col>X</th><th scope=col>Y</th></tr>\n",
       "\t<tr><th scope=col>&lt;chr&gt;</th><th scope=col>&lt;dbl&gt;</th><th scope=col>&lt;dbl&gt;</th><th scope=col>&lt;dbl&gt;</th><th scope=col>&lt;dbl&gt;</th><th scope=col>&lt;dbl&gt;</th><th scope=col>&lt;chr&gt;</th><th scope=col>&lt;chr&gt;</th><th scope=col>&lt;dbl&gt;</th><th scope=col>&lt;dbl&gt;</th></tr>\n",
       "</thead>\n",
       "<tbody>\n",
       "\t<tr><td>Vehicle Collision or Pedestrian Struck (with Injury)</td><td>2016</td><td> 6</td><td>20</td><td>18</td><td>11</td><td>YUKON ST / W KING EDWARD AVE</td><td>Riley Park</td><td>491786</td><td>5455143</td></tr>\n",
       "\t<tr><td>Vehicle Collision or Pedestrian Struck (with Injury)</td><td>2013</td><td>12</td><td> 3</td><td> 9</td><td>49</td><td>YUKON ST / W KING EDWARD AVE</td><td>Riley Park</td><td>491835</td><td>5455126</td></tr>\n",
       "\t<tr><td>Vehicle Collision or Pedestrian Struck (with Injury)</td><td>2013</td><td>12</td><td>27</td><td>14</td><td>40</td><td>YUKON ST / W KING EDWARD AVE</td><td>Riley Park</td><td>491835</td><td>5455126</td></tr>\n",
       "</tbody>\n",
       "</table>\n"
      ],
      "text/latex": [
       "A tibble: 3 × 10\n",
       "\\begin{tabular}{llllllllll}\n",
       " TYPE & YEAR & MONTH & DAY & HOUR & MINUTE & HUNDRED\\_BLOCK & NEIGHBOURHOOD & X & Y\\\\\n",
       " <chr> & <dbl> & <dbl> & <dbl> & <dbl> & <dbl> & <chr> & <chr> & <dbl> & <dbl>\\\\\n",
       "\\hline\n",
       "\t Vehicle Collision or Pedestrian Struck (with Injury) & 2016 &  6 & 20 & 18 & 11 & YUKON ST / W KING EDWARD AVE & Riley Park & 491786 & 5455143\\\\\n",
       "\t Vehicle Collision or Pedestrian Struck (with Injury) & 2013 & 12 &  3 &  9 & 49 & YUKON ST / W KING EDWARD AVE & Riley Park & 491835 & 5455126\\\\\n",
       "\t Vehicle Collision or Pedestrian Struck (with Injury) & 2013 & 12 & 27 & 14 & 40 & YUKON ST / W KING EDWARD AVE & Riley Park & 491835 & 5455126\\\\\n",
       "\\end{tabular}\n"
      ],
      "text/markdown": [
       "\n",
       "A tibble: 3 × 10\n",
       "\n",
       "| TYPE &lt;chr&gt; | YEAR &lt;dbl&gt; | MONTH &lt;dbl&gt; | DAY &lt;dbl&gt; | HOUR &lt;dbl&gt; | MINUTE &lt;dbl&gt; | HUNDRED_BLOCK &lt;chr&gt; | NEIGHBOURHOOD &lt;chr&gt; | X &lt;dbl&gt; | Y &lt;dbl&gt; |\n",
       "|---|---|---|---|---|---|---|---|---|---|\n",
       "| Vehicle Collision or Pedestrian Struck (with Injury) | 2016 |  6 | 20 | 18 | 11 | YUKON ST / W KING EDWARD AVE | Riley Park | 491786 | 5455143 |\n",
       "| Vehicle Collision or Pedestrian Struck (with Injury) | 2013 | 12 |  3 |  9 | 49 | YUKON ST / W KING EDWARD AVE | Riley Park | 491835 | 5455126 |\n",
       "| Vehicle Collision or Pedestrian Struck (with Injury) | 2013 | 12 | 27 | 14 | 40 | YUKON ST / W KING EDWARD AVE | Riley Park | 491835 | 5455126 |\n",
       "\n"
      ],
      "text/plain": [
       "  TYPE                                                 YEAR MONTH DAY HOUR\n",
       "1 Vehicle Collision or Pedestrian Struck (with Injury) 2016  6    20  18  \n",
       "2 Vehicle Collision or Pedestrian Struck (with Injury) 2013 12     3   9  \n",
       "3 Vehicle Collision or Pedestrian Struck (with Injury) 2013 12    27  14  \n",
       "  MINUTE HUNDRED_BLOCK                NEIGHBOURHOOD X      Y      \n",
       "1 11     YUKON ST / W KING EDWARD AVE Riley Park    491786 5455143\n",
       "2 49     YUKON ST / W KING EDWARD AVE Riley Park    491835 5455126\n",
       "3 40     YUKON ST / W KING EDWARD AVE Riley Park    491835 5455126"
      ]
     },
     "metadata": {},
     "output_type": "display_data"
    }
   ],
   "source": [
    "# Inspect the first and last three rows of the data frame\n",
    "head(crime_data, n = 3)\n",
    "tail(crime_data, n = 3)"
   ]
  },
  {
   "cell_type": "markdown",
   "metadata": {},
   "source": [
    "Our data largely comes in a \"tidy\" format already. By tidy, we're verifying (from the DSCI 100 course textbook [[Data Science: A First Introduction, 12]](https://ubc-dsci.github.io/introduction-to-datascience/), verbatim, which in turn is from Wickham and others [[R for Data Science, 11]](https://r4ds.had.co.nz/)): \n",
    "> * each row is a single observation,\n",
    "> * each column is a single variable, and\n",
    "> * each value is a single cell\n",
    "\n",
    "However, there are four steps we could take to improve the data set for our use: \n",
    "1. clean up the column names,\n",
    "2. remove N/As,\n",
    "3. select only data relevant to our analysis, and\n",
    "4. convert crime types and neighborhoods to a factor, since we're working with proportions (i.e., categorical data).\n",
    "\n",
    "We're primarily interested in the year, type and neighborhood of crimes, so we'll extract those columns and discard the rest. In addition, we would like to focus on the years 2017 to 2020."
   ]
  },
  {
   "cell_type": "code",
   "execution_count": 25,
   "metadata": {},
   "outputs": [
    {
     "data": {
      "text/html": [
       "<table class=\"dataframe\">\n",
       "<caption>A tibble: 6 × 3</caption>\n",
       "<thead>\n",
       "\t<tr><th scope=col>type</th><th scope=col>year</th><th scope=col>neighbourhood</th></tr>\n",
       "\t<tr><th scope=col>&lt;fct&gt;</th><th scope=col>&lt;dbl&gt;</th><th scope=col>&lt;fct&gt;</th></tr>\n",
       "</thead>\n",
       "<tbody>\n",
       "\t<tr><td>Break and Enter Commercial</td><td>2017</td><td>Strathcona</td></tr>\n",
       "\t<tr><td>Break and Enter Commercial</td><td>2020</td><td>Strathcona</td></tr>\n",
       "\t<tr><td>Break and Enter Commercial</td><td>2020</td><td>Strathcona</td></tr>\n",
       "\t<tr><td>Break and Enter Commercial</td><td>2017</td><td>Strathcona</td></tr>\n",
       "\t<tr><td>Break and Enter Commercial</td><td>2018</td><td>Strathcona</td></tr>\n",
       "\t<tr><td>Break and Enter Commercial</td><td>2019</td><td>Strathcona</td></tr>\n",
       "</tbody>\n",
       "</table>\n"
      ],
      "text/latex": [
       "A tibble: 6 × 3\n",
       "\\begin{tabular}{lll}\n",
       " type & year & neighbourhood\\\\\n",
       " <fct> & <dbl> & <fct>\\\\\n",
       "\\hline\n",
       "\t Break and Enter Commercial & 2017 & Strathcona\\\\\n",
       "\t Break and Enter Commercial & 2020 & Strathcona\\\\\n",
       "\t Break and Enter Commercial & 2020 & Strathcona\\\\\n",
       "\t Break and Enter Commercial & 2017 & Strathcona\\\\\n",
       "\t Break and Enter Commercial & 2018 & Strathcona\\\\\n",
       "\t Break and Enter Commercial & 2019 & Strathcona\\\\\n",
       "\\end{tabular}\n"
      ],
      "text/markdown": [
       "\n",
       "A tibble: 6 × 3\n",
       "\n",
       "| type &lt;fct&gt; | year &lt;dbl&gt; | neighbourhood &lt;fct&gt; |\n",
       "|---|---|---|\n",
       "| Break and Enter Commercial | 2017 | Strathcona |\n",
       "| Break and Enter Commercial | 2020 | Strathcona |\n",
       "| Break and Enter Commercial | 2020 | Strathcona |\n",
       "| Break and Enter Commercial | 2017 | Strathcona |\n",
       "| Break and Enter Commercial | 2018 | Strathcona |\n",
       "| Break and Enter Commercial | 2019 | Strathcona |\n",
       "\n"
      ],
      "text/plain": [
       "  type                       year neighbourhood\n",
       "1 Break and Enter Commercial 2017 Strathcona   \n",
       "2 Break and Enter Commercial 2020 Strathcona   \n",
       "3 Break and Enter Commercial 2020 Strathcona   \n",
       "4 Break and Enter Commercial 2017 Strathcona   \n",
       "5 Break and Enter Commercial 2018 Strathcona   \n",
       "6 Break and Enter Commercial 2019 Strathcona   "
      ]
     },
     "metadata": {},
     "output_type": "display_data"
    }
   ],
   "source": [
    "# 1. Generally, in R, you don't see ALL CAPS column names,\n",
    "# so we can modify the column names manually (with the help)\n",
    "# of the janitor library\n",
    "crime_data <- crime_data %>% clean_names()\n",
    "head(crime_data)"
   ]
  },
  {
   "cell_type": "code",
   "execution_count": 8,
   "metadata": {},
   "outputs": [
    {
     "name": "stdout",
     "output_type": "stream",
     "text": [
      "[1] \"There are 666293 rows in the data frame\"\n",
      "[1] \"Originally, there were 69872 NA values in the neighbourhood column\"\n",
      "[1] \"Now, there are 0 NA values in the neighbourhood column\"\n"
     ]
    }
   ],
   "source": [
    "# 2. Remove all NAs (Note: na.omit(...) applies to the entire data frame, \n",
    "# but neighbourhood is used as an example)\n",
    "\n",
    "total_rows <- crime_data %>% nrow()\n",
    "print(sprintf(\"There are %d rows in the data frame\", total_rows))\n",
    "\n",
    "na_neighbourhoods <- sum(is.na(crime_data$neighbourhood))\n",
    "print(sprintf(\"Originally, there were %d NA values in the neighbourhood column\", na_neighbourhoods))\n",
    "\n",
    "crime_data <- na.omit(crime_data)\n",
    "\n",
    "na_neighbourhoods <- sum(is.na(crime_data$neighbourhood))\n",
    "print(sprintf(\"Now, there are %d NA values in the neighbourhood column\", na_neighbourhoods))"
   ]
  },
  {
   "cell_type": "code",
   "execution_count": 9,
   "metadata": {},
   "outputs": [
    {
     "data": {
      "text/html": [
       "<table class=\"dataframe\">\n",
       "<caption>A tibble: 6 × 3</caption>\n",
       "<thead>\n",
       "\t<tr><th scope=col>type</th><th scope=col>year</th><th scope=col>neighbourhood</th></tr>\n",
       "\t<tr><th scope=col>&lt;chr&gt;</th><th scope=col>&lt;dbl&gt;</th><th scope=col>&lt;chr&gt;</th></tr>\n",
       "</thead>\n",
       "<tbody>\n",
       "\t<tr><td>Break and Enter Commercial</td><td>2019</td><td>Fairview</td></tr>\n",
       "\t<tr><td>Break and Enter Commercial</td><td>2019</td><td>West End</td></tr>\n",
       "\t<tr><td>Break and Enter Commercial</td><td>2020</td><td>West End</td></tr>\n",
       "\t<tr><td>Break and Enter Commercial</td><td>2017</td><td>West End</td></tr>\n",
       "\t<tr><td>Break and Enter Commercial</td><td>2018</td><td>West End</td></tr>\n",
       "\t<tr><td>Break and Enter Commercial</td><td>2020</td><td>West End</td></tr>\n",
       "</tbody>\n",
       "</table>\n"
      ],
      "text/latex": [
       "A tibble: 6 × 3\n",
       "\\begin{tabular}{lll}\n",
       " type & year & neighbourhood\\\\\n",
       " <chr> & <dbl> & <chr>\\\\\n",
       "\\hline\n",
       "\t Break and Enter Commercial & 2019 & Fairview\\\\\n",
       "\t Break and Enter Commercial & 2019 & West End\\\\\n",
       "\t Break and Enter Commercial & 2020 & West End\\\\\n",
       "\t Break and Enter Commercial & 2017 & West End\\\\\n",
       "\t Break and Enter Commercial & 2018 & West End\\\\\n",
       "\t Break and Enter Commercial & 2020 & West End\\\\\n",
       "\\end{tabular}\n"
      ],
      "text/markdown": [
       "\n",
       "A tibble: 6 × 3\n",
       "\n",
       "| type &lt;chr&gt; | year &lt;dbl&gt; | neighbourhood &lt;chr&gt; |\n",
       "|---|---|---|\n",
       "| Break and Enter Commercial | 2019 | Fairview |\n",
       "| Break and Enter Commercial | 2019 | West End |\n",
       "| Break and Enter Commercial | 2020 | West End |\n",
       "| Break and Enter Commercial | 2017 | West End |\n",
       "| Break and Enter Commercial | 2018 | West End |\n",
       "| Break and Enter Commercial | 2020 | West End |\n",
       "\n"
      ],
      "text/plain": [
       "  type                       year neighbourhood\n",
       "1 Break and Enter Commercial 2019 Fairview     \n",
       "2 Break and Enter Commercial 2019 West End     \n",
       "3 Break and Enter Commercial 2020 West End     \n",
       "4 Break and Enter Commercial 2017 West End     \n",
       "5 Break and Enter Commercial 2018 West End     \n",
       "6 Break and Enter Commercial 2020 West End     "
      ]
     },
     "metadata": {},
     "output_type": "display_data"
    }
   ],
   "source": [
    "# 3. Select only type, year, neighbourhood\n",
    "# Filter to the date range of 2017-2020\n",
    "crime_data <- crime_data %>% \n",
    "    select(type, year, neighbourhood) %>%\n",
    "    filter(2017 <= year & year <= 2020)\n",
    "head(crime_data)"
   ]
  },
  {
   "cell_type": "code",
   "execution_count": 10,
   "metadata": {},
   "outputs": [
    {
     "data": {
      "text/html": [
       "<table class=\"dataframe\">\n",
       "<caption>A tibble: 6 × 3</caption>\n",
       "<thead>\n",
       "\t<tr><th scope=col>type</th><th scope=col>year</th><th scope=col>neighbourhood</th></tr>\n",
       "\t<tr><th scope=col>&lt;fct&gt;</th><th scope=col>&lt;dbl&gt;</th><th scope=col>&lt;fct&gt;</th></tr>\n",
       "</thead>\n",
       "<tbody>\n",
       "\t<tr><td>Break and Enter Commercial</td><td>2019</td><td>Fairview</td></tr>\n",
       "\t<tr><td>Break and Enter Commercial</td><td>2019</td><td>West End</td></tr>\n",
       "\t<tr><td>Break and Enter Commercial</td><td>2020</td><td>West End</td></tr>\n",
       "\t<tr><td>Break and Enter Commercial</td><td>2017</td><td>West End</td></tr>\n",
       "\t<tr><td>Break and Enter Commercial</td><td>2018</td><td>West End</td></tr>\n",
       "\t<tr><td>Break and Enter Commercial</td><td>2020</td><td>West End</td></tr>\n",
       "</tbody>\n",
       "</table>\n"
      ],
      "text/latex": [
       "A tibble: 6 × 3\n",
       "\\begin{tabular}{lll}\n",
       " type & year & neighbourhood\\\\\n",
       " <fct> & <dbl> & <fct>\\\\\n",
       "\\hline\n",
       "\t Break and Enter Commercial & 2019 & Fairview\\\\\n",
       "\t Break and Enter Commercial & 2019 & West End\\\\\n",
       "\t Break and Enter Commercial & 2020 & West End\\\\\n",
       "\t Break and Enter Commercial & 2017 & West End\\\\\n",
       "\t Break and Enter Commercial & 2018 & West End\\\\\n",
       "\t Break and Enter Commercial & 2020 & West End\\\\\n",
       "\\end{tabular}\n"
      ],
      "text/markdown": [
       "\n",
       "A tibble: 6 × 3\n",
       "\n",
       "| type &lt;fct&gt; | year &lt;dbl&gt; | neighbourhood &lt;fct&gt; |\n",
       "|---|---|---|\n",
       "| Break and Enter Commercial | 2019 | Fairview |\n",
       "| Break and Enter Commercial | 2019 | West End |\n",
       "| Break and Enter Commercial | 2020 | West End |\n",
       "| Break and Enter Commercial | 2017 | West End |\n",
       "| Break and Enter Commercial | 2018 | West End |\n",
       "| Break and Enter Commercial | 2020 | West End |\n",
       "\n"
      ],
      "text/plain": [
       "  type                       year neighbourhood\n",
       "1 Break and Enter Commercial 2019 Fairview     \n",
       "2 Break and Enter Commercial 2019 West End     \n",
       "3 Break and Enter Commercial 2020 West End     \n",
       "4 Break and Enter Commercial 2017 West End     \n",
       "5 Break and Enter Commercial 2018 West End     \n",
       "6 Break and Enter Commercial 2020 West End     "
      ]
     },
     "metadata": {},
     "output_type": "display_data"
    }
   ],
   "source": [
    "# 4. Now, we'll convert `neighbourhood` and `type` to a factor, \n",
    "# since we're considering it categorical data\n",
    "crime_data <- crime_data %>%\n",
    "    mutate(type = as_factor(type)) %>%\n",
    "    mutate(neighbourhood = as_factor(neighbourhood))\n",
    "head(crime_data)"
   ]
  },
  {
   "cell_type": "markdown",
   "metadata": {},
   "source": [
    "Next, let's see how many different types of crimes there are present in our data set."
   ]
  },
  {
   "cell_type": "code",
   "execution_count": 11,
   "metadata": {},
   "outputs": [
    {
     "name": "stdout",
     "output_type": "stream",
     "text": [
      "[1] Break and Enter Commercial                            \n",
      "[2] Break and Enter Residential/Other                     \n",
      "[3] Mischief                                              \n",
      "[4] Other Theft                                           \n",
      "[5] Theft from Vehicle                                    \n",
      "[6] Theft of Bicycle                                      \n",
      "[7] Theft of Vehicle                                      \n",
      "[8] Vehicle Collision or Pedestrian Struck (with Fatality)\n",
      "[9] Vehicle Collision or Pedestrian Struck (with Injury)  \n",
      "9 Levels: Break and Enter Commercial ... Vehicle Collision or Pedestrian Struck (with Injury)\n"
     ]
    }
   ],
   "source": [
    "# Grab all unique crime types, and print them in a pretty way\n",
    "crime_types <- unique(crime_data$type)\n",
    "print(crime_types)"
   ]
  },
  {
   "cell_type": "markdown",
   "metadata": {},
   "source": [
    "As was mentioned in the introduction, we're interested in theft related crime. Let's create a list of all theft related crime we see in this data set."
   ]
  },
  {
   "cell_type": "code",
   "execution_count": 12,
   "metadata": {},
   "outputs": [],
   "source": [
    "theft_crimes <- c(\"Other Theft\", \"Theft from Vehicle\", \n",
    "                  \"Theft of Bicycle\", \"Theft of Vehicle\")"
   ]
  },
  {
   "cell_type": "markdown",
   "metadata": {},
   "source": [
    "We can also check the neighborhoods present in this data set."
   ]
  },
  {
   "cell_type": "code",
   "execution_count": 13,
   "metadata": {},
   "outputs": [
    {
     "name": "stdout",
     "output_type": "stream",
     "text": [
      " [1] Fairview                  West End                 \n",
      " [3] Central Business District Hastings-Sunrise         \n",
      " [5] Strathcona                Grandview-Woodland       \n",
      " [7] Mount Pleasant            Sunset                   \n",
      " [9] Kensington-Cedar Cottage  Stanley Park             \n",
      "[11] Shaughnessy               Marpole                  \n",
      "[13] Oakridge                  Kitsilano                \n",
      "[15] Victoria-Fraserview       Kerrisdale               \n",
      "[17] West Point Grey           Riley Park               \n",
      "[19] Arbutus Ridge             Renfrew-Collingwood      \n",
      "[21] Killarney                 South Cambie             \n",
      "[23] Dunbar-Southlands         Musqueam                 \n",
      "24 Levels: Fairview West End Central Business District ... Musqueam\n"
     ]
    }
   ],
   "source": [
    "# Grab all unique crime types, and print them in a pretty way\n",
    "neighbourhoods <- unique(crime_data$neighbourhood)\n",
    "print(neighbourhoods)"
   ]
  },
  {
   "cell_type": "markdown",
   "metadata": {},
   "source": [
    "We chose three neighborhoods that we believe are representative of different economic classes present in Vancouver, in terms of median wealth: Shaughnessy, Strathcona, and Marpole. Let's save those as well."
   ]
  },
  {
   "cell_type": "code",
   "execution_count": 14,
   "metadata": {},
   "outputs": [],
   "source": [
    "chosen_neighbourhoods <- c(\"Shaughnessy\", \"Strathcona\", \"Marpole\")"
   ]
  },
  {
   "cell_type": "markdown",
   "metadata": {},
   "source": [
    "We're hoping to compare crime rates across years in neighborhoods that represent a reasonable distribution of incomes. For our proposal, we're going to be using the Shaughnessy, Strathcona, and Marpole neighborhoods. More on why these neighborhoods were chosen in particular is discussed in the \"Methods\" section."
   ]
  },
  {
   "cell_type": "code",
   "execution_count": 15,
   "metadata": {},
   "outputs": [
    {
     "data": {
      "text/html": [
       "<table class=\"dataframe\">\n",
       "<caption>A tibble: 3 × 3</caption>\n",
       "<thead>\n",
       "\t<tr><th scope=col>type</th><th scope=col>year</th><th scope=col>neighbourhood</th></tr>\n",
       "\t<tr><th scope=col>&lt;fct&gt;</th><th scope=col>&lt;dbl&gt;</th><th scope=col>&lt;fct&gt;</th></tr>\n",
       "</thead>\n",
       "<tbody>\n",
       "\t<tr><td>Break and Enter Commercial</td><td>2017</td><td>Strathcona</td></tr>\n",
       "\t<tr><td>Break and Enter Commercial</td><td>2020</td><td>Strathcona</td></tr>\n",
       "\t<tr><td>Break and Enter Commercial</td><td>2020</td><td>Strathcona</td></tr>\n",
       "</tbody>\n",
       "</table>\n"
      ],
      "text/latex": [
       "A tibble: 3 × 3\n",
       "\\begin{tabular}{lll}\n",
       " type & year & neighbourhood\\\\\n",
       " <fct> & <dbl> & <fct>\\\\\n",
       "\\hline\n",
       "\t Break and Enter Commercial & 2017 & Strathcona\\\\\n",
       "\t Break and Enter Commercial & 2020 & Strathcona\\\\\n",
       "\t Break and Enter Commercial & 2020 & Strathcona\\\\\n",
       "\\end{tabular}\n"
      ],
      "text/markdown": [
       "\n",
       "A tibble: 3 × 3\n",
       "\n",
       "| type &lt;fct&gt; | year &lt;dbl&gt; | neighbourhood &lt;fct&gt; |\n",
       "|---|---|---|\n",
       "| Break and Enter Commercial | 2017 | Strathcona |\n",
       "| Break and Enter Commercial | 2020 | Strathcona |\n",
       "| Break and Enter Commercial | 2020 | Strathcona |\n",
       "\n"
      ],
      "text/plain": [
       "  type                       year neighbourhood\n",
       "1 Break and Enter Commercial 2017 Strathcona   \n",
       "2 Break and Enter Commercial 2020 Strathcona   \n",
       "3 Break and Enter Commercial 2020 Strathcona   "
      ]
     },
     "metadata": {},
     "output_type": "display_data"
    },
    {
     "data": {
      "text/html": [
       "<table class=\"dataframe\">\n",
       "<caption>A tibble: 3 × 3</caption>\n",
       "<thead>\n",
       "\t<tr><th scope=col>type</th><th scope=col>year</th><th scope=col>neighbourhood</th></tr>\n",
       "\t<tr><th scope=col>&lt;fct&gt;</th><th scope=col>&lt;dbl&gt;</th><th scope=col>&lt;fct&gt;</th></tr>\n",
       "</thead>\n",
       "<tbody>\n",
       "\t<tr><td>Vehicle Collision or Pedestrian Struck (with Injury)</td><td>2018</td><td>Strathcona</td></tr>\n",
       "\t<tr><td>Vehicle Collision or Pedestrian Struck (with Injury)</td><td>2018</td><td>Marpole   </td></tr>\n",
       "\t<tr><td>Vehicle Collision or Pedestrian Struck (with Injury)</td><td>2018</td><td>Marpole   </td></tr>\n",
       "</tbody>\n",
       "</table>\n"
      ],
      "text/latex": [
       "A tibble: 3 × 3\n",
       "\\begin{tabular}{lll}\n",
       " type & year & neighbourhood\\\\\n",
       " <fct> & <dbl> & <fct>\\\\\n",
       "\\hline\n",
       "\t Vehicle Collision or Pedestrian Struck (with Injury) & 2018 & Strathcona\\\\\n",
       "\t Vehicle Collision or Pedestrian Struck (with Injury) & 2018 & Marpole   \\\\\n",
       "\t Vehicle Collision or Pedestrian Struck (with Injury) & 2018 & Marpole   \\\\\n",
       "\\end{tabular}\n"
      ],
      "text/markdown": [
       "\n",
       "A tibble: 3 × 3\n",
       "\n",
       "| type &lt;fct&gt; | year &lt;dbl&gt; | neighbourhood &lt;fct&gt; |\n",
       "|---|---|---|\n",
       "| Vehicle Collision or Pedestrian Struck (with Injury) | 2018 | Strathcona |\n",
       "| Vehicle Collision or Pedestrian Struck (with Injury) | 2018 | Marpole    |\n",
       "| Vehicle Collision or Pedestrian Struck (with Injury) | 2018 | Marpole    |\n",
       "\n"
      ],
      "text/plain": [
       "  type                                                 year neighbourhood\n",
       "1 Vehicle Collision or Pedestrian Struck (with Injury) 2018 Strathcona   \n",
       "2 Vehicle Collision or Pedestrian Struck (with Injury) 2018 Marpole      \n",
       "3 Vehicle Collision or Pedestrian Struck (with Injury) 2018 Marpole      "
      ]
     },
     "metadata": {},
     "output_type": "display_data"
    }
   ],
   "source": [
    "# Filter down by the 3 neighbourhoods above\n",
    "crime_data <- crime_data %>%\n",
    "    filter(neighbourhood %in% chosen_neighbourhoods)\n",
    "\n",
    "head(crime_data, n = 3)\n",
    "tail(crime_data, n = 3)"
   ]
  },
  {
   "cell_type": "markdown",
   "metadata": {},
   "source": [
    "Now, to get a better sense of our data set, we'll produce three plots to explore, at a high level, what crime looks like in Vancouver both over time and by neighborhood. Our three plots will be:\n",
    "\n",
    "1. A line plot of total crime over time, grouped by neighborhood; this will demonstrate the change in total crime over time\n",
    "2. A stacked bar chart showing a breakdown of crime type, grouped by neighborhood; this will demonstrate the relative frequencies of each crime type, by neighborhood\n",
    "3. A waffle plot to show to crime types proportions, grouped by year; this will demonstrate the relative frequencies of each crime type, by year\n",
    "\n",
    "Let's begin with the line plot."
   ]
  },
  {
   "cell_type": "code",
   "execution_count": 16,
   "metadata": {},
   "outputs": [
    {
     "name": "stderr",
     "output_type": "stream",
     "text": [
      "`summarise()` has grouped output by 'neighbourhood'. You can override using the `.groups` argument.\n",
      "\n"
     ]
    },
    {
     "data": {
      "text/html": [
       "<table class=\"dataframe\">\n",
       "<caption>A grouped_df: 6 × 3</caption>\n",
       "<thead>\n",
       "\t<tr><th scope=col>neighbourhood</th><th scope=col>year</th><th scope=col>n</th></tr>\n",
       "\t<tr><th scope=col>&lt;fct&gt;</th><th scope=col>&lt;dbl&gt;</th><th scope=col>&lt;int&gt;</th></tr>\n",
       "</thead>\n",
       "<tbody>\n",
       "\t<tr><td>Strathcona </td><td>2017</td><td>1772</td></tr>\n",
       "\t<tr><td>Strathcona </td><td>2018</td><td>1986</td></tr>\n",
       "\t<tr><td>Strathcona </td><td>2019</td><td>2168</td></tr>\n",
       "\t<tr><td>Strathcona </td><td>2020</td><td>1708</td></tr>\n",
       "\t<tr><td>Shaughnessy</td><td>2017</td><td> 444</td></tr>\n",
       "\t<tr><td>Shaughnessy</td><td>2018</td><td> 414</td></tr>\n",
       "</tbody>\n",
       "</table>\n"
      ],
      "text/latex": [
       "A grouped\\_df: 6 × 3\n",
       "\\begin{tabular}{lll}\n",
       " neighbourhood & year & n\\\\\n",
       " <fct> & <dbl> & <int>\\\\\n",
       "\\hline\n",
       "\t Strathcona  & 2017 & 1772\\\\\n",
       "\t Strathcona  & 2018 & 1986\\\\\n",
       "\t Strathcona  & 2019 & 2168\\\\\n",
       "\t Strathcona  & 2020 & 1708\\\\\n",
       "\t Shaughnessy & 2017 &  444\\\\\n",
       "\t Shaughnessy & 2018 &  414\\\\\n",
       "\\end{tabular}\n"
      ],
      "text/markdown": [
       "\n",
       "A grouped_df: 6 × 3\n",
       "\n",
       "| neighbourhood &lt;fct&gt; | year &lt;dbl&gt; | n &lt;int&gt; |\n",
       "|---|---|---|\n",
       "| Strathcona  | 2017 | 1772 |\n",
       "| Strathcona  | 2018 | 1986 |\n",
       "| Strathcona  | 2019 | 2168 |\n",
       "| Strathcona  | 2020 | 1708 |\n",
       "| Shaughnessy | 2017 |  444 |\n",
       "| Shaughnessy | 2018 |  414 |\n",
       "\n"
      ],
      "text/plain": [
       "  neighbourhood year n   \n",
       "1 Strathcona    2017 1772\n",
       "2 Strathcona    2018 1986\n",
       "3 Strathcona    2019 2168\n",
       "4 Strathcona    2020 1708\n",
       "5 Shaughnessy   2017  444\n",
       "6 Shaughnessy   2018  414"
      ]
     },
     "metadata": {},
     "output_type": "display_data"
    }
   ],
   "source": [
    "# To produce our line plot, first, we'll need to compute the total amount of crime\n",
    "# by neighborhood and year\n",
    "neighbourhood_year_counts <- crime_data %>%\n",
    "    group_by(neighbourhood, year) %>% \n",
    "    summarise(n = n())\n",
    "head(neighbourhood_year_counts)"
   ]
  },
  {
   "cell_type": "code",
   "execution_count": 17,
   "metadata": {},
   "outputs": [
    {
     "name": "stdout",
     "output_type": "stream",
     "text": [
      "[1] \"Figure #1: A line plot depicting the number of total crimes over time by neighbourhood.\"\n"
     ]
    },
    {
     "data": {
      "image/png": "[encoded data removed]",
      "text/plain": [
       "plot without title"
      ]
     },
     "metadata": {
      "image/png": {
       "height": 300,
       "width": 480
      }
     },
     "output_type": "display_data"
    }
   ],
   "source": [
    "# 1. Finally, let's plot our data\n",
    "crime_data_plot <- neighbourhood_year_counts %>%\n",
    "    ggplot() +\n",
    "    geom_line(aes(x = year, y = n, color = neighbourhood)) +\n",
    "    scale_x_continuous(limits = c(2017, 2020)) +\n",
    "    labs(x = \"Year\", y = \"Number of Crimes\", color = \"Neighbourhood\") +\n",
    "    ggtitle(\"Number of Crimes Per Year in Selected Vancouver Neighbourhoods\\n\") +\n",
    "    theme_stat201(8, 5)\n",
    "crime_data_plot\n",
    "create_caption(1, \"A line plot depicting the number of total crimes over time by neighbourhood.\")"
   ]
  },
  {
   "cell_type": "markdown",
   "metadata": {},
   "source": [
    "It's clear that the crime is highest in Strathcona, followed by Marpole, and then Shaughnessy. Crime has also generally decreased in 2020, especially in Strathcona. \n",
    "\n",
    "Alongside checking the number of crimes total in each neighborhood, it's also worth looking at how much of each type of crime is represented in our data set. Let's now look at the stacked bar chart."
   ]
  },
  {
   "cell_type": "code",
   "execution_count": 18,
   "metadata": {},
   "outputs": [
    {
     "name": "stdout",
     "output_type": "stream",
     "text": [
      "[1] \"Figure #2: A stacked bar chart depicting the total number of crimes by type and neighbourhood.\"\n"
     ]
    },
    {
     "data": {
      "image/png": "[encoded data removed]",
      "text/plain": [
       "plot without title"
      ]
     },
     "metadata": {
      "image/png": {
       "height": 300,
       "width": 720
      }
     },
     "output_type": "display_data"
    }
   ],
   "source": [
    "# 2. Note that the stringr::str_wrap call wraps the long label names for crime types, and\n",
    "# reorder places the largest crime count on the bottom\n",
    "crime_type_bar_plot <- crime_data %>%\n",
    "    ggplot(aes(x = reorder(str_wrap(type, 30), type, function(x) - length(x)), fill = neighbourhood)) +\n",
    "    geom_bar(position = \"stack\") +\n",
    "    labs(x = \"Crime Type\", y = \"Total Number of Crimes Committed of Type\", fill = \"Neighbourhood\") +\n",
    "    ggtitle(\"Total Number of Crimes Committed in Select Vancouver\\nNeighbourhoods by Type\\n\") +\n",
    "    coord_flip() +\n",
    "    theme_stat201()\n",
    "\n",
    "# Vehicle collisions that result in fatality are (thankfully) very low,\n",
    "# and almost distinguishable on the plot below                           \n",
    "crime_type_bar_plot\n",
    "create_caption(2, \"A stacked bar chart depicting the total number of crimes by type and neighbourhood.\")"
   ]
  },
  {
   "cell_type": "markdown",
   "metadata": {},
   "source": [
    "This plot shows that theft from vehicle, in the Strathcona region, makes up a large proportion of all crimes committed. We can also see, thankfully, that vehicle collisions resulting in fatality make up such a small fraction of our data they're hard to distinguish.\n",
    "\n",
    "Finally, we can look at a visualization of the relative frequencies of crime over the years through a waffle chart. N.B: Each individual square represents 30 items."
   ]
  },
  {
   "cell_type": "code",
   "execution_count": 19,
   "metadata": {},
   "outputs": [
    {
     "data": {
      "text/html": [
       "<table class=\"dataframe\">\n",
       "<caption>A tibble: 6 × 3</caption>\n",
       "<thead>\n",
       "\t<tr><th scope=col>year</th><th scope=col>type</th><th scope=col>n</th></tr>\n",
       "\t<tr><th scope=col>&lt;dbl&gt;</th><th scope=col>&lt;fct&gt;</th><th scope=col>&lt;dbl&gt;</th></tr>\n",
       "</thead>\n",
       "<tbody>\n",
       "\t<tr><td>2017</td><td>Break and Enter Commercial       </td><td> 7.233333</td></tr>\n",
       "\t<tr><td>2017</td><td>Break and Enter Residential/Other</td><td>11.500000</td></tr>\n",
       "\t<tr><td>2017</td><td>Mischief                         </td><td>21.500000</td></tr>\n",
       "\t<tr><td>2017</td><td>Other Theft                      </td><td> 7.433333</td></tr>\n",
       "\t<tr><td>2017</td><td>Theft from Vehicle               </td><td>37.700000</td></tr>\n",
       "\t<tr><td>2017</td><td>Theft of Bicycle                 </td><td> 4.466667</td></tr>\n",
       "</tbody>\n",
       "</table>\n"
      ],
      "text/latex": [
       "A tibble: 6 × 3\n",
       "\\begin{tabular}{lll}\n",
       " year & type & n\\\\\n",
       " <dbl> & <fct> & <dbl>\\\\\n",
       "\\hline\n",
       "\t 2017 & Break and Enter Commercial        &  7.233333\\\\\n",
       "\t 2017 & Break and Enter Residential/Other & 11.500000\\\\\n",
       "\t 2017 & Mischief                          & 21.500000\\\\\n",
       "\t 2017 & Other Theft                       &  7.433333\\\\\n",
       "\t 2017 & Theft from Vehicle                & 37.700000\\\\\n",
       "\t 2017 & Theft of Bicycle                  &  4.466667\\\\\n",
       "\\end{tabular}\n"
      ],
      "text/markdown": [
       "\n",
       "A tibble: 6 × 3\n",
       "\n",
       "| year &lt;dbl&gt; | type &lt;fct&gt; | n &lt;dbl&gt; |\n",
       "|---|---|---|\n",
       "| 2017 | Break and Enter Commercial        |  7.233333 |\n",
       "| 2017 | Break and Enter Residential/Other | 11.500000 |\n",
       "| 2017 | Mischief                          | 21.500000 |\n",
       "| 2017 | Other Theft                       |  7.433333 |\n",
       "| 2017 | Theft from Vehicle                | 37.700000 |\n",
       "| 2017 | Theft of Bicycle                  |  4.466667 |\n",
       "\n"
      ],
      "text/plain": [
       "  year type                              n        \n",
       "1 2017 Break and Enter Commercial         7.233333\n",
       "2 2017 Break and Enter Residential/Other 11.500000\n",
       "3 2017 Mischief                          21.500000\n",
       "4 2017 Other Theft                        7.433333\n",
       "5 2017 Theft from Vehicle                37.700000\n",
       "6 2017 Theft of Bicycle                   4.466667"
      ]
     },
     "metadata": {},
     "output_type": "display_data"
    }
   ],
   "source": [
    "# Let's produce a count of the crime by year and type\n",
    "crime_waffle <- crime_data %>%\n",
    "    count(year, type) %>%\n",
    "    mutate(n = n / 30)\n",
    "head(crime_waffle)\n",
    "# The geom_waffle() function will do some magic for us in terms of rounding"
   ]
  },
  {
   "cell_type": "code",
   "execution_count": 20,
   "metadata": {},
   "outputs": [
    {
     "name": "stdout",
     "output_type": "stream",
     "text": [
      "[1] \"Figure #3: A waffle plot depicting the proportion of each crime time by year.\"\n"
     ]
    },
    {
     "data": {
      "image/png": "[encoded data removed]",
      "text/plain": [
       "plot without title"
      ]
     },
     "metadata": {
      "image/png": {
       "height": 360,
       "width": 720
      }
     },
     "output_type": "display_data"
    }
   ],
   "source": [
    "# 3. Let's look at the proportion of each crime committed over the years\n",
    "waffle_plot <- crime_waffle %>%\n",
    "    ggplot(aes(values = n, fill = type)) +\n",
    "    geom_waffle(n_rows = 10, flip = TRUE, color = \"white\", size = 0.25) +\n",
    "    facet_wrap(~year, nrow = 2, strip.position = \"bottom\") +\n",
    "    scale_x_discrete() + \n",
    "    scale_y_continuous(labels = function(x) x * 10, # make this multiplier the same as n_rows\n",
    "                       expand = c(0,0)) +\n",
    "    labs(\n",
    "        title = \"Waffle Bar Chart for Crime\\nType Data From 2017-2020\\n\",\n",
    "        # subtitle = \"A single square represents 30 crimes\",\n",
    "        x = \"Year\",\n",
    "        y = \"Count\",\n",
    "        fill = \"Crime Type\"\n",
    "    ) +\n",
    "    coord_equal() +\n",
    "    theme_enhance_waffle() +\n",
    "    theme(legend.position = \"bottom\") +\n",
    "    theme_stat201(12, 6)\n",
    "waffle_plot\n",
    "create_caption(3, \"A waffle plot depicting the proportion of each crime time by year.\")"
   ]
  },
  {
   "cell_type": "markdown",
   "metadata": {},
   "source": [
    "No trends are particularly obvious from the waffle plot, though we can see a clear reduction in crime overall in 2020, and it seems as though it is in large part due to a steep decline in \"theft from vehicle\" crimes.\n",
    "\n",
    "Now, we can compute estimates of our parameter of interest across each of our different groups. In our case, this means computing the difference between the mean of the proportion of theft crimes committed across 2017 to 2019 and the proportion of theft crimes committed in 2020."
   ]
  },
  {
   "cell_type": "code",
   "execution_count": 21,
   "metadata": {},
   "outputs": [
    {
     "name": "stderr",
     "output_type": "stream",
     "text": [
      "`summarise()` has grouped output by 'neighbourhood'. You can override using the `.groups` argument.\n",
      "\n"
     ]
    },
    {
     "data": {
      "text/html": [
       "<table class=\"dataframe\">\n",
       "<caption>A tibble: 3 × 3</caption>\n",
       "<thead>\n",
       "\t<tr><th scope=col>neighbourhood</th><th scope=col>prop_theft</th><th scope=col>time</th></tr>\n",
       "\t<tr><th scope=col>&lt;fct&gt;</th><th scope=col>&lt;dbl&gt;</th><th scope=col>&lt;fct&gt;</th></tr>\n",
       "</thead>\n",
       "<tbody>\n",
       "\t<tr><td>Strathcona </td><td>0.5578307</td><td>Before pandemic</td></tr>\n",
       "\t<tr><td>Shaughnessy</td><td>0.4624363</td><td>Before pandemic</td></tr>\n",
       "\t<tr><td>Marpole    </td><td>0.5675852</td><td>Before pandemic</td></tr>\n",
       "</tbody>\n",
       "</table>\n"
      ],
      "text/latex": [
       "A tibble: 3 × 3\n",
       "\\begin{tabular}{lll}\n",
       " neighbourhood & prop\\_theft & time\\\\\n",
       " <fct> & <dbl> & <fct>\\\\\n",
       "\\hline\n",
       "\t Strathcona  & 0.5578307 & Before pandemic\\\\\n",
       "\t Shaughnessy & 0.4624363 & Before pandemic\\\\\n",
       "\t Marpole     & 0.5675852 & Before pandemic\\\\\n",
       "\\end{tabular}\n"
      ],
      "text/markdown": [
       "\n",
       "A tibble: 3 × 3\n",
       "\n",
       "| neighbourhood &lt;fct&gt; | prop_theft &lt;dbl&gt; | time &lt;fct&gt; |\n",
       "|---|---|---|\n",
       "| Strathcona  | 0.5578307 | Before pandemic |\n",
       "| Shaughnessy | 0.4624363 | Before pandemic |\n",
       "| Marpole     | 0.5675852 | Before pandemic |\n",
       "\n"
      ],
      "text/plain": [
       "  neighbourhood prop_theft time           \n",
       "1 Strathcona    0.5578307  Before pandemic\n",
       "2 Shaughnessy   0.4624363  Before pandemic\n",
       "3 Marpole       0.5675852  Before pandemic"
      ]
     },
     "metadata": {},
     "output_type": "display_data"
    }
   ],
   "source": [
    "# Let's first compute the pre-COVID mean in each neighbourhood (merging 2017 to 2019)\n",
    "before_pandemic_df_by_year <- crime_data %>%\n",
    "    mutate(is_theft = as.numeric(type %in% theft_crimes)) %>%\n",
    "    filter(year >= 2017 & year <= 2019) %>%\n",
    "    group_by(neighbourhood, year) %>%\n",
    "    summarize(prop_theft = sum(is_theft) / n())\n",
    "# View prop_theft by year (2017, 2018, 2019) and neighbourhood\n",
    "# head(p_hat_pre_covid_by_year)\n",
    "\n",
    "before_pandemic_df <- before_pandemic_df_by_year %>%\n",
    "    group_by(neighbourhood) %>%\n",
    "    summarize(prop_theft = mean(prop_theft)) %>%\n",
    "    mutate(time = \"Before pandemic\") %>%\n",
    "    mutate(time = as_factor(time))\n",
    "head(before_pandemic_df)"
   ]
  },
  {
   "cell_type": "code",
   "execution_count": 22,
   "metadata": {},
   "outputs": [
    {
     "data": {
      "text/html": [
       "<table class=\"dataframe\">\n",
       "<caption>A tibble: 3 × 3</caption>\n",
       "<thead>\n",
       "\t<tr><th scope=col>neighbourhood</th><th scope=col>prop_theft</th><th scope=col>time</th></tr>\n",
       "\t<tr><th scope=col>&lt;fct&gt;</th><th scope=col>&lt;dbl&gt;</th><th scope=col>&lt;fct&gt;</th></tr>\n",
       "</thead>\n",
       "<tbody>\n",
       "\t<tr><td>Strathcona </td><td>0.4385246</td><td>During pandemic</td></tr>\n",
       "\t<tr><td>Shaughnessy</td><td>0.4349030</td><td>During pandemic</td></tr>\n",
       "\t<tr><td>Marpole    </td><td>0.5655738</td><td>During pandemic</td></tr>\n",
       "</tbody>\n",
       "</table>\n"
      ],
      "text/latex": [
       "A tibble: 3 × 3\n",
       "\\begin{tabular}{lll}\n",
       " neighbourhood & prop\\_theft & time\\\\\n",
       " <fct> & <dbl> & <fct>\\\\\n",
       "\\hline\n",
       "\t Strathcona  & 0.4385246 & During pandemic\\\\\n",
       "\t Shaughnessy & 0.4349030 & During pandemic\\\\\n",
       "\t Marpole     & 0.5655738 & During pandemic\\\\\n",
       "\\end{tabular}\n"
      ],
      "text/markdown": [
       "\n",
       "A tibble: 3 × 3\n",
       "\n",
       "| neighbourhood &lt;fct&gt; | prop_theft &lt;dbl&gt; | time &lt;fct&gt; |\n",
       "|---|---|---|\n",
       "| Strathcona  | 0.4385246 | During pandemic |\n",
       "| Shaughnessy | 0.4349030 | During pandemic |\n",
       "| Marpole     | 0.5655738 | During pandemic |\n",
       "\n"
      ],
      "text/plain": [
       "  neighbourhood prop_theft time           \n",
       "1 Strathcona    0.4385246  During pandemic\n",
       "2 Shaughnessy   0.4349030  During pandemic\n",
       "3 Marpole       0.5655738  During pandemic"
      ]
     },
     "metadata": {},
     "output_type": "display_data"
    }
   ],
   "source": [
    "# Now let's get an estimate for the COVID mean by neighbourhood\n",
    "during_pandemic_df <- crime_data %>%\n",
    "    mutate(is_theft = as.numeric(type %in% theft_crimes)) %>%\n",
    "    filter(year == 2020) %>%\n",
    "    group_by(neighbourhood) %>%\n",
    "    summarize(prop_theft = sum(is_theft) / n()) %>%\n",
    "    mutate(time = \"During pandemic\") %>%\n",
    "    mutate(time = as_factor(time))\n",
    "head(during_pandemic_df)"
   ]
  },
  {
   "cell_type": "code",
   "execution_count": 23,
   "metadata": {},
   "outputs": [
    {
     "data": {
      "text/html": [
       "<table class=\"dataframe\">\n",
       "<caption>A data.frame: 3 × 2</caption>\n",
       "<thead>\n",
       "\t<tr><th></th><th scope=col>neighbourhood</th><th scope=col>prop_diff</th></tr>\n",
       "\t<tr><th></th><th scope=col>&lt;fct&gt;</th><th scope=col>&lt;dbl&gt;</th></tr>\n",
       "</thead>\n",
       "<tbody>\n",
       "\t<tr><th scope=row>1</th><td>Strathcona </td><td>-0.119306097</td></tr>\n",
       "\t<tr><th scope=row>2</th><td>Shaughnessy</td><td>-0.027533295</td></tr>\n",
       "\t<tr><th scope=row>3</th><td>Marpole    </td><td>-0.002011429</td></tr>\n",
       "</tbody>\n",
       "</table>\n"
      ],
      "text/latex": [
       "A data.frame: 3 × 2\n",
       "\\begin{tabular}{r|ll}\n",
       "  & neighbourhood & prop\\_diff\\\\\n",
       "  & <fct> & <dbl>\\\\\n",
       "\\hline\n",
       "\t1 & Strathcona  & -0.119306097\\\\\n",
       "\t2 & Shaughnessy & -0.027533295\\\\\n",
       "\t3 & Marpole     & -0.002011429\\\\\n",
       "\\end{tabular}\n"
      ],
      "text/markdown": [
       "\n",
       "A data.frame: 3 × 2\n",
       "\n",
       "| <!--/--> | neighbourhood &lt;fct&gt; | prop_diff &lt;dbl&gt; |\n",
       "|---|---|---|\n",
       "| 1 | Strathcona  | -0.119306097 |\n",
       "| 2 | Shaughnessy | -0.027533295 |\n",
       "| 3 | Marpole     | -0.002011429 |\n",
       "\n"
      ],
      "text/plain": [
       "  neighbourhood prop_diff   \n",
       "1 Strathcona    -0.119306097\n",
       "2 Shaughnessy   -0.027533295\n",
       "3 Marpole       -0.002011429"
      ]
     },
     "metadata": {},
     "output_type": "display_data"
    }
   ],
   "source": [
    "# Summarize in table\n",
    "prof_diff_df <- during_pandemic_df %>%\n",
    "    rename(during_prop_theft = prop_theft) %>%\n",
    "    select(during_prop_theft) %>%\n",
    "    cbind(before_pandemic_df) %>%\n",
    "    mutate(prop_diff = during_prop_theft - prop_theft) %>%\n",
    "    select(neighbourhood, prop_diff)\n",
    "head(prof_diff_df)"
   ]
  },
  {
   "cell_type": "markdown",
   "metadata": {},
   "source": [
    "Note that a negative value indicates a _decrease_ in crime during 2020. Our initial data suggests that the proportion of theft-related crime has actually _decreased_ since the pandemic began. While this is a good estimate for us to begin our analysis with, it's by no means sufficient to conclude upon; more as to why that is the case is discussed below."
   ]
  },
  {
   "cell_type": "markdown",
   "metadata": {},
   "source": [
    "## Methods\n",
    "\n",
    "### Strengths\n",
    "\n",
    "Our report uses data from the Vancouver Police Department to study trends in crime across select Vancouver neighborhoods. It is \"trustworthy\" in the sense that we will look to be careful at providing _ranges_ of our final answer, rather than solely point estimates. However, that alone isn't enough to guarantee an effective analysis. \n",
    "\n",
    "We're also using blocking in our analysis. Crime has been linked to wealth (and more specifically, socioeconomic status, or SES) [[World Bank, 8]](https://onlinelibrary.wiley.com/doi/abs/10.1111/j.1745-9125.1999.tb00483.x), so we'll treat it as a blocking variable, and group our data by three neighborhoods that represent different levels of wealth.\n",
    "\n",
    "Finally, we're being careful to not simply compare the trend of crime between 2019 and 2020. Since our focus is COVID-19, we're not especially interested in the 1-year trend, but rather, how 2020 has deviated from the \"norm.\" It is plausible that 2019 was an outlier, so \"merging\" the 3-year span of 2017 to 2019 should provide us a better sense of the general, recent crime levels in Vancouver.\n",
    "\n",
    "### Limitations\n",
    "\n",
    "Some could argue that many of the \"petty\" crimes we're interested in, like theft, largely go unreported. And while our analysis does indeed aim to provide an estimate from this sample of strictly reported crimes, arguing what makes a \"fair\" range is a hard question to answer. Countless factors affect whether or not a crime gets reported, and trust in police generally was found to be at a \"record low\" in August of 2020 [[New York Times, 10]](https://www.nytimes.com/2020/08/12/us/gallup-poll-police.html). Accounting for this variability, statistically, is arduous.\n",
    "\n",
    "Furthermore, while our neighborhood selections do represent a fair amount of spread in the wealth of various Vancouver neighborhoods, they're by no means perfectly representative. Shaughnessy, for one, being at a rather high-end extreme of wealth, might be less useful in our analysis, as it doesn't really generalize to any kind of useful population outside of that specific neighborhood.\n",
    "\n",
    "### Analysis\n",
    "\n",
    "Of course, the plots and estimates provided above are _not_ sufficient for any stakeholder, such as the municipal government or the VPD themselves. Since we're working with a sample, we must report a range of plausible values, rather than a single point estimate. Thankfully, there are a few steps we can take to do this in different ways:\n",
    "\n",
    "Firstly, we can produce a hypothesis test, where our null is that theft-related crime rates have _not_ changed:\n",
    "\n",
    "$$H_0: \\Delta{p} = 0$$\n",
    "\n",
    "and our alternative hypothesis is that there has been some sort of change.\n",
    "\n",
    "$$H_A: \\Delta{p} \\ne 0$$\n",
    "\n",
    "We'll have to do a two-tailed test and check if our sample difference in proportions falls within our significance level. As for what value of $\\alpha$ to use, it's hard to say. We'll likely go with something like 10%, since we're working with a social science topic, and thus more variability is generally considered acceptable.\n",
    "\n",
    "Secondly, we can produce a confidence interval to report a range of plausible values alongside our difference in proportions statistic. We'll use two techniques, both bootstrapping (i.e., generating a bootstrapped sampling distribution) and asymptotics, to yield a range of values at a confidence level (\"CL\") of 90%, though that value could change as we deem appropriate. \n",
    "\n",
    "(Note that two-tailed hypothesis tests are confidence intervals are practically equivalent at ${CL} = 1 - \\alpha$, but doing both approaches is good for rigor and completeness, and allows us to use both bootstrapping and asymptotics.)\n",
    "\n",
    "Along the way, we will be sure to visualize and interpret our results within the context of our problem. These techniques will also allow us to report something actually sufficient for a stakeholder: both a statistic and a range. This is at the core of inferential statistics."
   ]
  },
  {
   "cell_type": "markdown",
   "metadata": {},
   "source": [
    "## Reflection\n",
    "\n",
    "In our final report, we expect to find that the rate of theft-related crime has changed significantly from past years, supporting the hypothesis that the pandemic is correlated to changing crime rates, including at local levels, with petty crimes.\n",
    "\n",
    "We anticipate the impact of our findings will be the production of actionable insights for both city officials and the VPD. Getting budgets right is hard, but using data-driven methods makes the process significantly easier. Through hypothesis testing, we can put both the safety and security of Vancouverites as a top priority, as weighing police funding versus additional social security measures is of utmost importance.\n",
    "\n",
    "Three examples of further questions that could extend this analysis are:\n",
    "\n",
    "1. Have other (perhaps, more small scale) pandemics affected the rate of theft-related crime? A study could be done of SARS in Toronto, from 2003-04.\n",
    "2. How has COVID-19 affected the rate of theft-related crime at different cities across Canada? Cities could include: Calgary, Edmonton, Winnipeg, Regina, etc.\n",
    "3. In what ways has the rate of violent crime changed since the pandemic began? We could look at the rate of more intense crimes, still on a city basis."
   ]
  },
  {
   "cell_type": "markdown",
   "metadata": {},
   "source": [
    "<hr >"
   ]
  },
  {
   "cell_type": "markdown",
   "metadata": {},
   "source": [
    "## References\n",
    "\n",
    "1. Statistics Canada, _The Social and Economic Impacts of COVID-19: A Six-Month Update_. Published October 20, 2020. [Source](https://www150.statcan.gc.ca/n1/pub/11-631-x/2020004/conclusions-eng.htm).\n",
    "\n",
    "2. Interpol, _Operation Pangea – shining a light on pharmaceutical crime_. Published November 21, 2019. [Source](https://www.interpol.int/en/News-and-Events/News/2019/Operation-Pangea-shining-a-light-on-pharmaceutical-crime).\n",
    "\n",
    "3. ABC News, _FBI warns of potential surge in hate crimes against Asian Americans amid coronavirus_. Published March 27, 2020. [Source](https://abcnews.go.com/US/fbi-warns-potential-surge-hate-crimes-asian-americans/story?id=69831920).\n",
    "\n",
    "4. UN News, _UN chief calls for domestic violence ‘ceasefire’ amid ‘horrifying global surge’_. Published April 6, 2020. [Source](https://news.un.org/en/story/2020/04/1061052).\n",
    "\n",
    "5. CBC, _City of Vancouver freezes police department funding as part of 2021 budget_. Published December 8, 2020. [Source](https://www.cbc.ca/news/canada/british-columbia/city-of-vancouver-freezes-police-department-funding-as-part-of-2021-budget-1.5833731).\n",
    "\n",
    "6. Vancouver Police Department, _Crime Data_. Accessed March 5, 2021. [Source](https://geodash.vpd.ca/opendata/).\n",
    "\n",
    "7. Piazza, _Group Project clarification_. Published March 4, 2021. [Source](https://piazza.com/class/kjqe81ynudx2rm?cid=169).*\n",
    "\n",
    "8. Wright, Bradley R. Entner, Avshalom Caspi et al in Criminology, _RECONSIDERING THE RELATIONSHIP BETWEEN SES AND DELINQUENCY: CAUSATION BUT NOT CORRELATION_. Published March 7, 2006. [Source](https://onlinelibrary.wiley.com/doi/abs/10.1111/j.1745-9125.1999.tb00483.x).\n",
    "\n",
    "9. City of Vancouver, _Census local area profiles 2016_. Published April 10, 2018. [Source](https://opendata.vancouver.ca/explore/dataset/census-local-area-profiles-2016/information/).\n",
    "\n",
    "10. New York Times, _Confidence in Police Is at Record Low, Gallup Survey Finds_. Published August 12, 2020. [Source](https://www.nytimes.com/2020/08/12/us/gallup-poll-police.html).\n",
    "\n",
    "11. Wickham, Hadley and Garrett Grolemund, _R for Data Science_. Published December 2016. [Source](https://r4ds.had.co.nz/).\n",
    "\n",
    "12. Timbers, Tiffany-Anne, Trevor Campbell and Melissa Lee, _Data Science: A First Introduction_. Last updated January 12, 2021. [Source](https://ubc-dsci.github.io/introduction-to-datascience/).\n",
    "\n",
    "\\* Note the Piazza reference is used to ensure we're handling a proportions analysis correctly, since it was a bit unclear in the instructions."
   ]
  },
  {
   "cell_type": "code",
   "execution_count": 24,
   "metadata": {},
   "outputs": [],
   "source": [
    "# Delete unzipped files, and the zip archive\n",
    "unlink(\"*.csv\")\n",
    "unlink(\"*.txt\")\n",
    "unlink(\"*.pdf\")\n",
    "unlink(\"*.zip\")"
   ]
  }
 ],
 "metadata": {
  "kernelspec": {
   "display_name": "R",
   "language": "R",
   "name": "ir"
  },
  "language_info": {
   "codemirror_mode": "r",
   "file_extension": ".r",
   "mimetype": "text/x-r-source",
   "name": "R",
   "pygments_lexer": "r",
   "version": "4.0.2"
  }
 },
 "nbformat": 4,
 "nbformat_minor": 4
}
